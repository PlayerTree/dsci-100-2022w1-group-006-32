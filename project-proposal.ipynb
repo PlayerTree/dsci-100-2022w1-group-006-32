{
 "cells": [
  {
   "cell_type": "markdown",
   "id": "b695a739-40f7-4b13-9161-d5a0a70ea8da",
   "metadata": {},
   "source": [
    "Title"
   ]
  },
  {
   "cell_type": "code",
   "execution_count": null,
   "id": "2a987f7a-0594-4198-a850-fe82f1e0a6cd",
   "metadata": {},
   "outputs": [],
   "source": []
  }
 ],
 "metadata": {
  "kernelspec": {
   "display_name": "R",
   "language": "R",
   "name": "ir"
  },
  "language_info": {
   "codemirror_mode": "r",
   "file_extension": ".r",
   "mimetype": "text/x-r-source",
   "name": "R",
   "pygments_lexer": "r",
   "version": "4.1.3"
  }
 },
 "nbformat": 4,
 "nbformat_minor": 5
}
