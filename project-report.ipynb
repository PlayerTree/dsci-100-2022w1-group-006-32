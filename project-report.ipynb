{
 "cells": [
  {
   "cell_type": "markdown",
   "id": "b695a739-40f7-4b13-9161-d5a0a70ea8da",
   "metadata": {},
   "source": [
    "# DSCI 100 006 Group 32 Project Report\n",
    "## Exploring the Factors Affecting Housing Prices in Taiwan: A K Nearest Neighbour Regression Analysis of House Age, Location, Proximity to MRT Stations, and Convenience Store Density \n",
    "Jim Geng, Madalyn Stekl, William Kawira, Shikha Rajesh  "
   ]
  },
  {
   "attachments": {},
   "cell_type": "markdown",
   "id": "23892f7c-b3ba-4de9-9093-be049f222253",
   "metadata": {},
   "source": [
    "## Introduction\n",
    "\n",
    "Real estate valuation is the process of determining a property's economic value. It is very important for the real estate market to determine how much houses are worth, so sellers can determine the price they should list their house for, and buyers can make sure that they are not being overcharged, and make a reasonable offer on a house. Supply and demand are big drivers of the real estate market, but other variables such as age, condition, terms and conditions of sale, location, lot size, and distance to amenities are also taken into account when a property is evaluated. \n",
    "\n",
    "The goal of our project is to establish the relationships between the price of the house and other variables such as house age, the distance to the nearest MRT station, and the number of convenience stores within a walkable distance. We will perform a regression analysis to determine the strength of these relationships.\n",
    "\n",
    "Our dataset is a historical record of real estate evaluation in the Sindian District of New Taipei City, Taiwan. The dataset is comprised of the observation number, the date that the house was evaluated, the age of the house in years, the distance to the nearest Mass Rapid Transit (MRT) station in meters, the number of convenience stores in walking distance, the latitude and longitude in degrees, and finally the house price per unit area (10000 New Taiwan Dollar per Ping ~ 3.3m²). There are 414 observations in the dataset, taken between August of 2012 and July of 2013. "
   ]
  },
  {
   "attachments": {},
   "cell_type": "markdown",
   "id": "572279ad-3387-4f53-a69f-885dd02983b7",
   "metadata": {},
   "source": [
    "## Data Analysis Methods and Results\n",
    "#### Preliminary Data Cleaning and Wrangling\n",
    "\n",
    "To start off, we added the necessary library packages to perform our analysis."
   ]
  },
  {
   "cell_type": "code",
   "execution_count": 3,
   "id": "2a987f7a-0594-4198-a850-fe82f1e0a6cd",
   "metadata": {
    "vscode": {
     "languageId": "r"
    }
   },
   "outputs": [],
   "source": [
    "set.seed(2023)\n",
    "# Importing libraries\n",
    "\n",
    "library(readxl)\n",
    "library(repr)\n",
    "library(readr)\n",
    "library(ggplot2)\n",
    "library(tidyverse)\n",
    "library(tidymodels)\n",
    "options(repr.matrix.max.rows = 6)"
   ]
  },
  {
   "cell_type": "markdown",
   "id": "b24c4748-1a7d-4fb1-a8f3-13747f5fe8ae",
   "metadata": {},
   "source": [
    "To obtain the data, we downloaded a excel spreadsheet from University of California Irvine's data science machine learning host server and imported it into R through the `read_xlsx()` function."
   ]
  },
  {
   "cell_type": "code",
   "execution_count": 4,
   "id": "c262a72e-08d1-486b-bd53-eb7dad749e2c",
   "metadata": {
    "vscode": {
     "languageId": "r"
    }
   },
   "outputs": [
    {
     "data": {
      "text/html": [
       "<table class=\"dataframe\">\n",
       "<caption>A tibble: 414 × 8</caption>\n",
       "<thead>\n",
       "\t<tr><th scope=col>No</th><th scope=col>X1 transaction date</th><th scope=col>X2 house age</th><th scope=col>X3 distance to the nearest MRT station</th><th scope=col>X4 number of convenience stores</th><th scope=col>X5 latitude</th><th scope=col>X6 longitude</th><th scope=col>Y house price of unit area</th></tr>\n",
       "\t<tr><th scope=col>&lt;dbl&gt;</th><th scope=col>&lt;dbl&gt;</th><th scope=col>&lt;dbl&gt;</th><th scope=col>&lt;dbl&gt;</th><th scope=col>&lt;dbl&gt;</th><th scope=col>&lt;dbl&gt;</th><th scope=col>&lt;dbl&gt;</th><th scope=col>&lt;dbl&gt;</th></tr>\n",
       "</thead>\n",
       "<tbody>\n",
       "\t<tr><td>1</td><td>2012.917</td><td>32.0</td><td> 84.87882</td><td>10</td><td>24.98298</td><td>121.5402</td><td>37.9</td></tr>\n",
       "\t<tr><td>2</td><td>2012.917</td><td>19.5</td><td>306.59470</td><td> 9</td><td>24.98034</td><td>121.5395</td><td>42.2</td></tr>\n",
       "\t<tr><td>3</td><td>2013.583</td><td>13.3</td><td>561.98450</td><td> 5</td><td>24.98746</td><td>121.5439</td><td>47.3</td></tr>\n",
       "\t<tr><td>⋮</td><td>⋮</td><td>⋮</td><td>⋮</td><td>⋮</td><td>⋮</td><td>⋮</td><td>⋮</td></tr>\n",
       "\t<tr><td>412</td><td>2013.25</td><td>18.8</td><td>390.96960</td><td>7</td><td>24.97923</td><td>121.5399</td><td>40.6</td></tr>\n",
       "\t<tr><td>413</td><td>2013.00</td><td> 8.1</td><td>104.81010</td><td>5</td><td>24.96674</td><td>121.5407</td><td>52.5</td></tr>\n",
       "\t<tr><td>414</td><td>2013.50</td><td> 6.5</td><td> 90.45606</td><td>9</td><td>24.97433</td><td>121.5431</td><td>63.9</td></tr>\n",
       "</tbody>\n",
       "</table>\n"
      ],
      "text/latex": [
       "A tibble: 414 × 8\n",
       "\\begin{tabular}{llllllll}\n",
       " No & X1 transaction date & X2 house age & X3 distance to the nearest MRT station & X4 number of convenience stores & X5 latitude & X6 longitude & Y house price of unit area\\\\\n",
       " <dbl> & <dbl> & <dbl> & <dbl> & <dbl> & <dbl> & <dbl> & <dbl>\\\\\n",
       "\\hline\n",
       "\t 1 & 2012.917 & 32.0 &  84.87882 & 10 & 24.98298 & 121.5402 & 37.9\\\\\n",
       "\t 2 & 2012.917 & 19.5 & 306.59470 &  9 & 24.98034 & 121.5395 & 42.2\\\\\n",
       "\t 3 & 2013.583 & 13.3 & 561.98450 &  5 & 24.98746 & 121.5439 & 47.3\\\\\n",
       "\t ⋮ & ⋮ & ⋮ & ⋮ & ⋮ & ⋮ & ⋮ & ⋮\\\\\n",
       "\t 412 & 2013.25 & 18.8 & 390.96960 & 7 & 24.97923 & 121.5399 & 40.6\\\\\n",
       "\t 413 & 2013.00 &  8.1 & 104.81010 & 5 & 24.96674 & 121.5407 & 52.5\\\\\n",
       "\t 414 & 2013.50 &  6.5 &  90.45606 & 9 & 24.97433 & 121.5431 & 63.9\\\\\n",
       "\\end{tabular}\n"
      ],
      "text/markdown": [
       "\n",
       "A tibble: 414 × 8\n",
       "\n",
       "| No &lt;dbl&gt; | X1 transaction date &lt;dbl&gt; | X2 house age &lt;dbl&gt; | X3 distance to the nearest MRT station &lt;dbl&gt; | X4 number of convenience stores &lt;dbl&gt; | X5 latitude &lt;dbl&gt; | X6 longitude &lt;dbl&gt; | Y house price of unit area &lt;dbl&gt; |\n",
       "|---|---|---|---|---|---|---|---|\n",
       "| 1 | 2012.917 | 32.0 |  84.87882 | 10 | 24.98298 | 121.5402 | 37.9 |\n",
       "| 2 | 2012.917 | 19.5 | 306.59470 |  9 | 24.98034 | 121.5395 | 42.2 |\n",
       "| 3 | 2013.583 | 13.3 | 561.98450 |  5 | 24.98746 | 121.5439 | 47.3 |\n",
       "| ⋮ | ⋮ | ⋮ | ⋮ | ⋮ | ⋮ | ⋮ | ⋮ |\n",
       "| 412 | 2013.25 | 18.8 | 390.96960 | 7 | 24.97923 | 121.5399 | 40.6 |\n",
       "| 413 | 2013.00 |  8.1 | 104.81010 | 5 | 24.96674 | 121.5407 | 52.5 |\n",
       "| 414 | 2013.50 |  6.5 |  90.45606 | 9 | 24.97433 | 121.5431 | 63.9 |\n",
       "\n"
      ],
      "text/plain": [
       "    No  X1 transaction date X2 house age X3 distance to the nearest MRT station\n",
       "1   1   2012.917            32.0          84.87882                             \n",
       "2   2   2012.917            19.5         306.59470                             \n",
       "3   3   2013.583            13.3         561.98450                             \n",
       "⋮   ⋮   ⋮                   ⋮            ⋮                                     \n",
       "412 412 2013.25             18.8         390.96960                             \n",
       "413 413 2013.00              8.1         104.81010                             \n",
       "414 414 2013.50              6.5          90.45606                             \n",
       "    X4 number of convenience stores X5 latitude X6 longitude\n",
       "1   10                              24.98298    121.5402    \n",
       "2    9                              24.98034    121.5395    \n",
       "3    5                              24.98746    121.5439    \n",
       "⋮   ⋮                               ⋮           ⋮           \n",
       "412 7                               24.97923    121.5399    \n",
       "413 5                               24.96674    121.5407    \n",
       "414 9                               24.97433    121.5431    \n",
       "    Y house price of unit area\n",
       "1   37.9                      \n",
       "2   42.2                      \n",
       "3   47.3                      \n",
       "⋮   ⋮                         \n",
       "412 40.6                      \n",
       "413 52.5                      \n",
       "414 63.9                      "
      ]
     },
     "metadata": {},
     "output_type": "display_data"
    }
   ],
   "source": [
    "# File download\n",
    "house_url <- \"https://archive.ics.uci.edu/ml/machine-learning-databases/00477/Real%20estate%20valuation%20data%20set.xlsx\"\n",
    "dest_file <- \"Real estate valuation data set.xlsx\"\n",
    "download.file(house_url, dest_file)\n",
    "\n",
    "# Read file\n",
    "house_data <- read_xlsx(\"Real estate valuation data set.xlsx\")\n",
    "house_data"
   ]
  },
  {
   "cell_type": "markdown",
   "id": "a7374ba2-9425-43fc-ab26-85cc9a769e73",
   "metadata": {},
   "source": [
    "*Table 1. Initial Taiwanese housing data downloaded from University of California dataset website.*"
   ]
  },
  {
   "cell_type": "markdown",
   "id": "48b35d9e-3411-45bc-8a95-d6a0f7480524",
   "metadata": {},
   "source": [
    "Next, the data was wrangled, cleaned, and the predictors for the knn regression were selected. To do this, we removed extraneous columns, selected the relevant columns for our analysis, and renamed them. "
   ]
  },
  {
   "cell_type": "code",
   "execution_count": 5,
   "id": "92b9f7fe-4280-4310-b3cc-542d08193cda",
   "metadata": {
    "vscode": {
     "languageId": "r"
    }
   },
   "outputs": [
    {
     "data": {
      "text/html": [
       "<table class=\"dataframe\">\n",
       "<caption>A tibble: 414 × 4</caption>\n",
       "<thead>\n",
       "\t<tr><th scope=col>age</th><th scope=col>station_distance</th><th scope=col>store_count</th><th scope=col>price_per_unit</th></tr>\n",
       "\t<tr><th scope=col>&lt;dbl&gt;</th><th scope=col>&lt;dbl&gt;</th><th scope=col>&lt;dbl&gt;</th><th scope=col>&lt;dbl&gt;</th></tr>\n",
       "</thead>\n",
       "<tbody>\n",
       "\t<tr><td>32.0</td><td> 84.87882</td><td>10</td><td>37.9</td></tr>\n",
       "\t<tr><td>19.5</td><td>306.59470</td><td> 9</td><td>42.2</td></tr>\n",
       "\t<tr><td>13.3</td><td>561.98450</td><td> 5</td><td>47.3</td></tr>\n",
       "\t<tr><td>⋮</td><td>⋮</td><td>⋮</td><td>⋮</td></tr>\n",
       "\t<tr><td>18.8</td><td>390.96960</td><td>7</td><td>40.6</td></tr>\n",
       "\t<tr><td> 8.1</td><td>104.81010</td><td>5</td><td>52.5</td></tr>\n",
       "\t<tr><td> 6.5</td><td> 90.45606</td><td>9</td><td>63.9</td></tr>\n",
       "</tbody>\n",
       "</table>\n"
      ],
      "text/latex": [
       "A tibble: 414 × 4\n",
       "\\begin{tabular}{llll}\n",
       " age & station\\_distance & store\\_count & price\\_per\\_unit\\\\\n",
       " <dbl> & <dbl> & <dbl> & <dbl>\\\\\n",
       "\\hline\n",
       "\t 32.0 &  84.87882 & 10 & 37.9\\\\\n",
       "\t 19.5 & 306.59470 &  9 & 42.2\\\\\n",
       "\t 13.3 & 561.98450 &  5 & 47.3\\\\\n",
       "\t ⋮ & ⋮ & ⋮ & ⋮\\\\\n",
       "\t 18.8 & 390.96960 & 7 & 40.6\\\\\n",
       "\t  8.1 & 104.81010 & 5 & 52.5\\\\\n",
       "\t  6.5 &  90.45606 & 9 & 63.9\\\\\n",
       "\\end{tabular}\n"
      ],
      "text/markdown": [
       "\n",
       "A tibble: 414 × 4\n",
       "\n",
       "| age &lt;dbl&gt; | station_distance &lt;dbl&gt; | store_count &lt;dbl&gt; | price_per_unit &lt;dbl&gt; |\n",
       "|---|---|---|---|\n",
       "| 32.0 |  84.87882 | 10 | 37.9 |\n",
       "| 19.5 | 306.59470 |  9 | 42.2 |\n",
       "| 13.3 | 561.98450 |  5 | 47.3 |\n",
       "| ⋮ | ⋮ | ⋮ | ⋮ |\n",
       "| 18.8 | 390.96960 | 7 | 40.6 |\n",
       "|  8.1 | 104.81010 | 5 | 52.5 |\n",
       "|  6.5 |  90.45606 | 9 | 63.9 |\n",
       "\n"
      ],
      "text/plain": [
       "    age  station_distance store_count price_per_unit\n",
       "1   32.0  84.87882        10          37.9          \n",
       "2   19.5 306.59470         9          42.2          \n",
       "3   13.3 561.98450         5          47.3          \n",
       "⋮   ⋮    ⋮                ⋮           ⋮             \n",
       "412 18.8 390.96960        7           40.6          \n",
       "413  8.1 104.81010        5           52.5          \n",
       "414  6.5  90.45606        9           63.9          "
      ]
     },
     "metadata": {},
     "output_type": "display_data"
    }
   ],
   "source": [
    "# Cleaning column names and removing extraneous columns.\n",
    "house_data <- house_data |> \n",
    "    rename(\n",
    "        age = \"X2 house age\",\n",
    "        station_distance = \"X3 distance to the nearest MRT station\",\n",
    "        store_count = \"X4 number of convenience stores\",\n",
    "        price_per_unit = \"Y house price of unit area\"\n",
    "    ) |>\n",
    "    select(-c(\"No\", \"X1 transaction date\", \"X5 latitude\", \"X6 longitude\")) |>\n",
    "    mutate(store_count = store_count)\n",
    "house_data"
   ]
  },
  {
   "cell_type": "markdown",
   "id": "e9ef9d37-2b05-43d1-af9c-2627acecec56",
   "metadata": {},
   "source": [
    "*Table 2. Cleaned and wrangled version of the Taiwanese housing data, with unused columns removed and column names renamed for analysis.*"
   ]
  },
  {
   "cell_type": "markdown",
   "id": "40c718a1-3a0e-4818-a077-f9cf8169d60d",
   "metadata": {},
   "source": [
    "To prepare the data for analysis, we split the data into a training and testing set with 75%  of the data as training and 25% of the data as testing. "
   ]
  },
  {
   "cell_type": "code",
   "execution_count": 6,
   "id": "d79b774d-2b23-49d5-b926-a5327ceb459a",
   "metadata": {
    "vscode": {
     "languageId": "r"
    }
   },
   "outputs": [],
   "source": [
    "set.seed(2023)\n",
    "# Splitting data into training and testing sets.\n",
    "house_split <- initial_split(house_data, prop = 0.75, strata = price_per_unit)\n",
    "house_train <- training(house_split)\n",
    "house_test <- testing(house_split)"
   ]
  },
  {
   "cell_type": "markdown",
   "id": "572d6c8f-4780-4aac-a966-7666bc437e5f",
   "metadata": {},
   "source": [
    "Next, we produced some summary statistics of our data: the mean of all of our variables."
   ]
  },
  {
   "cell_type": "code",
   "execution_count": 7,
   "id": "3af214db-6fb1-482d-b1eb-72d118674ffd",
   "metadata": {
    "vscode": {
     "languageId": "r"
    }
   },
   "outputs": [
    {
     "data": {
      "text/html": [
       "<table class=\"dataframe\">\n",
       "<caption>A tibble: 1 × 4</caption>\n",
       "<thead>\n",
       "\t<tr><th scope=col>age</th><th scope=col>station_distance</th><th scope=col>store_count</th><th scope=col>price_per_unit</th></tr>\n",
       "\t<tr><th scope=col>&lt;dbl&gt;</th><th scope=col>&lt;dbl&gt;</th><th scope=col>&lt;dbl&gt;</th><th scope=col>&lt;dbl&gt;</th></tr>\n",
       "</thead>\n",
       "<tbody>\n",
       "\t<tr><td>17.55032</td><td>1059.566</td><td>4.159091</td><td>38.20779</td></tr>\n",
       "</tbody>\n",
       "</table>\n"
      ],
      "text/latex": [
       "A tibble: 1 × 4\n",
       "\\begin{tabular}{llll}\n",
       " age & station\\_distance & store\\_count & price\\_per\\_unit\\\\\n",
       " <dbl> & <dbl> & <dbl> & <dbl>\\\\\n",
       "\\hline\n",
       "\t 17.55032 & 1059.566 & 4.159091 & 38.20779\\\\\n",
       "\\end{tabular}\n"
      ],
      "text/markdown": [
       "\n",
       "A tibble: 1 × 4\n",
       "\n",
       "| age &lt;dbl&gt; | station_distance &lt;dbl&gt; | store_count &lt;dbl&gt; | price_per_unit &lt;dbl&gt; |\n",
       "|---|---|---|---|\n",
       "| 17.55032 | 1059.566 | 4.159091 | 38.20779 |\n",
       "\n"
      ],
      "text/plain": [
       "  age      station_distance store_count price_per_unit\n",
       "1 17.55032 1059.566         4.159091    38.20779      "
      ]
     },
     "metadata": {},
     "output_type": "display_data"
    }
   ],
   "source": [
    "# Summary statistics\n",
    "house_train_mean <- house_train |>\n",
    "    summarize(across(age:price_per_unit, mean))\n",
    "house_train_mean"
   ]
  },
  {
   "cell_type": "markdown",
   "id": "2a459b96-b362-4c9e-af4f-7ce2f5812ec0",
   "metadata": {},
   "source": [
    "*Table 3. Summary table describing the mean value of each column.*"
   ]
  },
  {
   "cell_type": "markdown",
   "id": "5f851d17-419f-4c80-a7f8-968b8c911fbc",
   "metadata": {},
   "source": [
    "Our data does not have any missing values, nor does it have any discrepancies in the amount of observations in each class, so here we have printed out the mean of each predictor variable. Paired with visualizations and values from the original dataset, this allows for easier identification of potential outlier values when compared with these mean values."
   ]
  },
  {
   "cell_type": "markdown",
   "id": "9f52c175-74dd-4f39-858c-3e51a23e5d77",
   "metadata": {},
   "source": [
    "#### Preliminary Data Exploration"
   ]
  },
  {
   "cell_type": "markdown",
   "id": "26137f2c-4b88-436b-a9b0-4729a81a4563",
   "metadata": {},
   "source": [
    "We then produced some exploratory visualizations of our data: scatterplots of house price vs. age, house price vs. distance to the nearest mass rapid transit station, and house price vs. the number of nearby convenience stores. These established some general hints as to whether or not there are strong enough relationships between the variables to use them for our regression analysis.\n"
   ]
  },
  {
   "cell_type": "code",
   "execution_count": 8,
   "id": "5ca0f710-09e4-4b95-bb70-b3e3862e08fc",
   "metadata": {
    "vscode": {
     "languageId": "r"
    }
   },
   "outputs": [
    {
     "data": {
      "image/png": "[encoded data removed]",
      "text/plain": [
       "plot without title"
      ]
     },
     "metadata": {
      "image/png": {
       "height": 480,
       "width": 480
      }
     },
     "output_type": "display_data"
    }
   ],
   "source": [
    "options(repr.plot.width = 8, repr.plot.height = 8)\n",
    "\n",
    "# Age vs price scatterplot\n",
    "age_price_plot <- house_train |> \n",
    "    ggplot(aes(x = age, y = price_per_unit)) +\n",
    "    geom_point(col = \"forestgreen\") +\n",
    "    labs(x = \"Age of House (years)\", y = \"Price per Unit Area(10,000 NTD/Ping)\") +\n",
    "    theme(text = element_text(size = 16)) + \n",
    "    ggtitle(\"Plot of Age of House in Relation to Price per Unit Area\")\n",
    "age_price_plot"
   ]
  },
  {
   "cell_type": "markdown",
   "id": "f46b2322-a57c-43f3-8b2b-1ec085b33ad1",
   "metadata": {},
   "source": [
    "*Figure 1. Plot of the relationship between the age of the residence and its price per unit area.*"
   ]
  },
  {
   "cell_type": "markdown",
   "id": "260d0e20-61d4-4eaf-91e3-0f8cee471503",
   "metadata": {},
   "source": [
    "This scatterplot shows that the age of house and price may not have a strong correlation. The data has a slightly negative correlation at first that flattens out as the age of house increases. There are also outlier data points with four houses at the 35-40 years old range."
   ]
  },
  {
   "cell_type": "code",
   "execution_count": 9,
   "id": "7f48e6c5-bf0c-44ba-b45d-d66ea4c1408c",
   "metadata": {
    "vscode": {
     "languageId": "r"
    }
   },
   "outputs": [
    {
     "data": {
      "image/png": "[encoded data removed]",
      "text/plain": [
       "plot without title"
      ]
     },
     "metadata": {
      "image/png": {
       "height": 480,
       "width": 480
      }
     },
     "output_type": "display_data"
    }
   ],
   "source": [
    "# Distance to station vs price scatterplot\n",
    "station_price_plot <- house_train |> \n",
    "    ggplot(aes(x = station_distance, y = price_per_unit)) +\n",
    "    geom_point(col = \"forestgreen\") +\n",
    "    labs(x = \"Distance to Closest MRT Station (m)\", y = \"Price per Unit Area(10,000 NTD/Ping)\") +\n",
    "    ggtitle(\"Plot of Distance to MRT Station vs. Price per Unit Area\") +\n",
    "    theme(text = element_text(size = 16))\n",
    "station_price_plot"
   ]
  },
  {
   "cell_type": "markdown",
   "id": "aca780f8-6bb4-46ba-8177-c807dd0c6c1d",
   "metadata": {},
   "source": [
    "*Figure 2. Plot of the relationship between the house's distance to the closest public transit station and its price per unit area.*"
   ]
  },
  {
   "cell_type": "markdown",
   "id": "0ef59e1e-0874-4941-a12d-ff7f52c82a49",
   "metadata": {},
   "source": [
    "There is noticable negative correlation between the distance to closest MRT (public transportation) station, and KNN regression has the potential to be useful here since the correlation does not seem to be completely linear. "
   ]
  },
  {
   "cell_type": "code",
   "execution_count": 10,
   "id": "e6f1e524-9603-4bee-87ed-8e3891b8213a",
   "metadata": {
    "vscode": {
     "languageId": "r"
    }
   },
   "outputs": [
    {
     "data": {
      "image/png": "[encoded data removed]",
      "text/plain": [
       "plot without title"
      ]
     },
     "metadata": {
      "image/png": {
       "height": 480,
       "width": 480
      }
     },
     "output_type": "display_data"
    }
   ],
   "source": [
    "# Number of nearby stores vs price scatterplot\n",
    "store_price_plot <- house_train |> \n",
    "    ggplot(aes(x = store_count, y = price_per_unit)) +\n",
    "    geom_point(col = \"forestgreen\") +\n",
    "    labs(x = \"Number of Nearby Stores\", y = \"Price per Unit Area(10,000 NTD/Ping)\") +\n",
    "    theme(text = element_text(size = 16)) +\n",
    "    ggtitle(\"Plot of Number of Nearby Stores vs. Price per Unit Area\")\n",
    "store_price_plot"
   ]
  },
  {
   "attachments": {},
   "cell_type": "markdown",
   "id": "7fb61080-c652-4da3-83c0-521ad7a8c9c8",
   "metadata": {},
   "source": [
    "*Figure 3. Plot of the relationship between the number of nearby convenience stores of the house and its price per unit area.*"
   ]
  },
  {
   "cell_type": "markdown",
   "id": "8ed59afd-c839-4c90-9768-8ec94bef82c6",
   "metadata": {},
   "source": [
    "This figure shows a moderately strong postive correlation between the number of nearby stores and the price of housing. The correlation seems to be fairly linear. This indicates that a linear regression model could be an alternative approach in the future if another different regression model is completed with only number of nearby stores used as a singular predictor. However, for the sake of doing a multivariable regression we will apply KNN regression with all of the predictors since KNN fits the other predictors more."
   ]
  },
  {
   "attachments": {},
   "cell_type": "markdown",
   "id": "05ba2742-027d-47a2-85a6-a235cf72fdc9",
   "metadata": {},
   "source": [
    "#### K Nearest Neighbour Regression \n",
    "#### Tuning\n",
    "The first step in our regression analysis was to preform a 5-fold cross-validation to choose the best k value for our analysis. To do this, we first split our data into 5 sections. We then decided that we would test k values of 1-100 through using a tibble of these values, so we could tune our workflow to test for the best K value. "
   ]
  },
  {
   "cell_type": "code",
   "execution_count": 11,
   "id": "f0c729d4-616e-487b-9109-db0ad91c5d22",
   "metadata": {
    "vscode": {
     "languageId": "r"
    }
   },
   "outputs": [],
   "source": [
    "set.seed(2023)\n",
    "# V-Fold Function\n",
    "house_vfold <- vfold_cv(house_train, v = 5, strata = price_per_unit)\n",
    "\n",
    "# Number of K Neighbours to test\n",
    "gridvals <- tibble(neighbors = seq(1,100))"
   ]
  },
  {
   "attachments": {},
   "cell_type": "markdown",
   "id": "955a5403",
   "metadata": {},
   "source": [
    "The nest step of our regression was to create a K-Nearest Neighbours specification for our tuning step."
   ]
  },
  {
   "cell_type": "code",
   "execution_count": 12,
   "id": "de6e65ea",
   "metadata": {
    "vscode": {
     "languageId": "r"
    }
   },
   "outputs": [],
   "source": [
    "# KNN Model\n",
    "house_spec <- nearest_neighbor(weight_func = \"rectangular\", neighbors = tune()) |>\n",
    "    set_engine(\"kknn\") |>\n",
    "    set_mode(\"regression\")"
   ]
  },
  {
   "attachments": {},
   "cell_type": "markdown",
   "id": "86cb3af8",
   "metadata": {},
   "source": [
    " A recipe for house price prediction in relation to the three predictors is created, and the recipe and model specification is combined together in a workflow to output a optimal K value."
   ]
  },
  {
   "cell_type": "code",
   "execution_count": 13,
   "id": "19cd00e2",
   "metadata": {
    "vscode": {
     "languageId": "r"
    }
   },
   "outputs": [
    {
     "data": {
      "text/html": [
       "<table class=\"dataframe\">\n",
       "<caption>A tibble: 4 × 7</caption>\n",
       "<thead>\n",
       "\t<tr><th scope=col>neighbors</th><th scope=col>.metric</th><th scope=col>.estimator</th><th scope=col>mean</th><th scope=col>n</th><th scope=col>std_err</th><th scope=col>.config</th></tr>\n",
       "\t<tr><th scope=col>&lt;int&gt;</th><th scope=col>&lt;chr&gt;</th><th scope=col>&lt;chr&gt;</th><th scope=col>&lt;dbl&gt;</th><th scope=col>&lt;int&gt;</th><th scope=col>&lt;dbl&gt;</th><th scope=col>&lt;chr&gt;</th></tr>\n",
       "</thead>\n",
       "<tbody>\n",
       "\t<tr><td>15</td><td>rmse</td><td>standard</td><td>9.172155</td><td>5</td><td>0.9662820</td><td>Preprocessor1_Model015</td></tr>\n",
       "\t<tr><td>16</td><td>rmse</td><td>standard</td><td>9.175129</td><td>5</td><td>0.9780684</td><td>Preprocessor1_Model016</td></tr>\n",
       "\t<tr><td>12</td><td>rmse</td><td>standard</td><td>9.176345</td><td>5</td><td>0.9654732</td><td>Preprocessor1_Model012</td></tr>\n",
       "\t<tr><td>14</td><td>rmse</td><td>standard</td><td>9.176514</td><td>5</td><td>0.9630439</td><td>Preprocessor1_Model014</td></tr>\n",
       "</tbody>\n",
       "</table>\n"
      ],
      "text/latex": [
       "A tibble: 4 × 7\n",
       "\\begin{tabular}{lllllll}\n",
       " neighbors & .metric & .estimator & mean & n & std\\_err & .config\\\\\n",
       " <int> & <chr> & <chr> & <dbl> & <int> & <dbl> & <chr>\\\\\n",
       "\\hline\n",
       "\t 15 & rmse & standard & 9.172155 & 5 & 0.9662820 & Preprocessor1\\_Model015\\\\\n",
       "\t 16 & rmse & standard & 9.175129 & 5 & 0.9780684 & Preprocessor1\\_Model016\\\\\n",
       "\t 12 & rmse & standard & 9.176345 & 5 & 0.9654732 & Preprocessor1\\_Model012\\\\\n",
       "\t 14 & rmse & standard & 9.176514 & 5 & 0.9630439 & Preprocessor1\\_Model014\\\\\n",
       "\\end{tabular}\n"
      ],
      "text/markdown": [
       "\n",
       "A tibble: 4 × 7\n",
       "\n",
       "| neighbors &lt;int&gt; | .metric &lt;chr&gt; | .estimator &lt;chr&gt; | mean &lt;dbl&gt; | n &lt;int&gt; | std_err &lt;dbl&gt; | .config &lt;chr&gt; |\n",
       "|---|---|---|---|---|---|---|\n",
       "| 15 | rmse | standard | 9.172155 | 5 | 0.9662820 | Preprocessor1_Model015 |\n",
       "| 16 | rmse | standard | 9.175129 | 5 | 0.9780684 | Preprocessor1_Model016 |\n",
       "| 12 | rmse | standard | 9.176345 | 5 | 0.9654732 | Preprocessor1_Model012 |\n",
       "| 14 | rmse | standard | 9.176514 | 5 | 0.9630439 | Preprocessor1_Model014 |\n",
       "\n"
      ],
      "text/plain": [
       "  neighbors .metric .estimator mean     n std_err   .config               \n",
       "1 15        rmse    standard   9.172155 5 0.9662820 Preprocessor1_Model015\n",
       "2 16        rmse    standard   9.175129 5 0.9780684 Preprocessor1_Model016\n",
       "3 12        rmse    standard   9.176345 5 0.9654732 Preprocessor1_Model012\n",
       "4 14        rmse    standard   9.176514 5 0.9630439 Preprocessor1_Model014"
      ]
     },
     "metadata": {},
     "output_type": "display_data"
    }
   ],
   "source": [
    "# Regression recipe\n",
    "house_recipe <- recipe(price_per_unit ~ ., data = house_train) |>\n",
    "    step_scale(all_predictors()) |>\n",
    "    step_center(all_predictors())\n",
    "\n",
    "# Tuning step\n",
    "house_tune_results <- workflow() |> \n",
    "    add_recipe(house_recipe) |> \n",
    "    add_model(house_spec) |> \n",
    "    tune_grid(resamples = house_vfold, grid = gridvals) |> \n",
    "    collect_metrics()\n",
    "\n",
    "# Tuning result table, uncomment to view\n",
    "# house_tune_results\n",
    "\n",
    "# Finding minimum rmse\n",
    "house_tune_min <- house_tune_results |> \n",
    "    filter(.metric == \"rmse\") |> \n",
    "    arrange(mean) |> \n",
    "    head(4)\n",
    "\n",
    "house_tune_min"
   ]
  },
  {
   "cell_type": "markdown",
   "id": "e3048a78-e48f-4add-b06f-c9833792ecdd",
   "metadata": {},
   "source": [
    "*Table 4. V-fold cross validation results showcasing the first four K values with the lowest RMSE values.*"
   ]
  },
  {
   "cell_type": "markdown",
   "id": "fe2da4ae-1cac-4727-bd1f-e9065fd115b2",
   "metadata": {},
   "source": [
    "Here, with 5-fold cross validation done with k = 1 to 100, it is revealed that k = 15 gave the minimum rmse value. This can be further supported by the following line plot."
   ]
  },
  {
   "cell_type": "code",
   "execution_count": 14,
   "id": "158af67b-2c6d-4607-95ad-e150581928b3",
   "metadata": {
    "vscode": {
     "languageId": "r"
    }
   },
   "outputs": [
    {
     "data": {
      "image/png": "[encoded data removed]",
      "text/plain": [
       "plot without title"
      ]
     },
     "metadata": {
      "image/png": {
       "height": 480,
       "width": 480
      }
     },
     "output_type": "display_data"
    }
   ],
   "source": [
    "#Plotting the cross validation plot to show k=15\n",
    "house_tune_plot <- house_tune_results |> \n",
    "    filter(.metric == \"rmse\") |>\n",
    "    ggplot(aes(x = neighbors, y = mean)) +\n",
    "        geom_line(col = \"darkorchid3\") +\n",
    "        xlab(\"Number of Neighbours\") +\n",
    "        ylab(\"RMSE\") +\n",
    "        ggtitle(\"V-Fold Cross Validation Tuning Results\") +\n",
    "        theme(text = element_text(size = 18))\n",
    "#Printing the plot\n",
    "house_tune_plot"
   ]
  },
  {
   "cell_type": "markdown",
   "id": "abd359d3-c232-4b5a-90d9-466fbf1117b7",
   "metadata": {},
   "source": [
    "*Figure 4. V-fold cross validation results showing the minimum rmse value tuned by testing K values from 1 to 100.* "
   ]
  },
  {
   "cell_type": "markdown",
   "id": "e167bfcb-9be3-4fb2-8354-b5c056936869",
   "metadata": {},
   "source": [
    "With the optimal k-value, the multivariable KNN regression can now be performed."
   ]
  },
  {
   "cell_type": "markdown",
   "id": "3258bc46-0cf1-4058-a022-bec595717806",
   "metadata": {},
   "source": [
    "#### Model Fitting\n",
    "\n",
    "We then were finally able to make predictions on our test data, and computed a summary of the quality of our regression, which gives us the final RMSPE of our model."
   ]
  },
  {
   "cell_type": "code",
   "execution_count": 15,
   "id": "b9ab3ce6-1960-4064-ab4c-76699aa86506",
   "metadata": {
    "vscode": {
     "languageId": "r"
    }
   },
   "outputs": [
    {
     "data": {
      "text/html": [
       "<table class=\"dataframe\">\n",
       "<caption>A tibble: 3 × 3</caption>\n",
       "<thead>\n",
       "\t<tr><th scope=col>.metric</th><th scope=col>.estimator</th><th scope=col>.estimate</th></tr>\n",
       "\t<tr><th scope=col>&lt;chr&gt;</th><th scope=col>&lt;chr&gt;</th><th scope=col>&lt;dbl&gt;</th></tr>\n",
       "</thead>\n",
       "<tbody>\n",
       "\t<tr><td>rmse</td><td>standard</td><td>7.8311030</td></tr>\n",
       "\t<tr><td>rsq </td><td>standard</td><td>0.6271196</td></tr>\n",
       "\t<tr><td>mae </td><td>standard</td><td>5.8044025</td></tr>\n",
       "</tbody>\n",
       "</table>\n"
      ],
      "text/latex": [
       "A tibble: 3 × 3\n",
       "\\begin{tabular}{lll}\n",
       " .metric & .estimator & .estimate\\\\\n",
       " <chr> & <chr> & <dbl>\\\\\n",
       "\\hline\n",
       "\t rmse & standard & 7.8311030\\\\\n",
       "\t rsq  & standard & 0.6271196\\\\\n",
       "\t mae  & standard & 5.8044025\\\\\n",
       "\\end{tabular}\n"
      ],
      "text/markdown": [
       "\n",
       "A tibble: 3 × 3\n",
       "\n",
       "| .metric &lt;chr&gt; | .estimator &lt;chr&gt; | .estimate &lt;dbl&gt; |\n",
       "|---|---|---|\n",
       "| rmse | standard | 7.8311030 |\n",
       "| rsq  | standard | 0.6271196 |\n",
       "| mae  | standard | 5.8044025 |\n",
       "\n"
      ],
      "text/plain": [
       "  .metric .estimator .estimate\n",
       "1 rmse    standard   7.8311030\n",
       "2 rsq     standard   0.6271196\n",
       "3 mae     standard   5.8044025"
      ]
     },
     "metadata": {},
     "output_type": "display_data"
    }
   ],
   "source": [
    "set.seed(2023)\n",
    "\n",
    "# Extracting best K value\n",
    "k_min <- house_tune_min |> \n",
    "    head(1) |>\n",
    "    pull(neighbors)\n",
    "\n",
    "# Creating a new model based on the best K value\n",
    "house_best_spec <- nearest_neighbor(weight_func = \"rectangular\", neighbors = k_min) |> \n",
    "    set_engine(\"kknn\") |> \n",
    "    set_mode(\"regression\")\n",
    "\n",
    "# New model with the optimal K value\n",
    "house_best_fit_results <- workflow() |> \n",
    "    add_recipe(house_recipe) |> \n",
    "    add_model(house_best_spec) |> \n",
    "    fit(data = house_train)\n",
    "\n",
    "# Predicting variables in house_test\n",
    "house_preds <- house_best_fit_results |> \n",
    "    predict(house_test) |>\n",
    "    bind_cols(house_test)\n",
    "\n",
    "# Building the summary table showing the overall RMSPE value of our KNN regression\n",
    "house_summary <- house_preds |>\n",
    "    metrics(truth = price_per_unit, estimate = .pred)\n",
    "\n",
    "# Printing the summary table\n",
    "house_summary"
   ]
  },
  {
   "cell_type": "markdown",
   "id": "b87f2d95-b051-4ac9-be0b-2ea5804fa689",
   "metadata": {},
   "source": [
    "*Table 5. Summary table showing that the overall RMSPE value of our KNN regression model is around 7.831 price per unit area.*"
   ]
  },
  {
   "cell_type": "markdown",
   "id": "b2fc656c-d002-4c6b-be86-2349f3fd15b0",
   "metadata": {},
   "source": [
    "#### Model Visualization\n",
    "Finally, we visualized our predictions by plotting the price versus each of our predictor variables with the prediction line overlaid on the scatterplot of the testing data. This allows us to see how accurate our prediction was for each of the separate variables."
   ]
  },
  {
   "cell_type": "code",
   "execution_count": 16,
   "id": "66d0ea3f-aabb-4349-8f1a-22d7ee78fb62",
   "metadata": {
    "vscode": {
     "languageId": "r"
    }
   },
   "outputs": [
    {
     "data": {
      "image/png": "[encoded data removed]",
      "text/plain": [
       "plot without title"
      ]
     },
     "metadata": {
      "image/png": {
       "height": 480,
       "width": 480
      }
     },
     "output_type": "display_data"
    }
   ],
   "source": [
    "# Plotting the relationship between the house's age and its price per unit area of the testing data, \n",
    "# overlaid with KNN prediction line\n",
    "age_price_plot <- house_train |> \n",
    "    ggplot(aes(x = age, y = price_per_unit)) +\n",
    "    geom_point(col = \"forestgreen\") +\n",
    "    geom_line(\n",
    "        data = house_preds,\n",
    "        mapping = aes(x = age, y = .pred),\n",
    "        color = \"darkorchid3\") +\n",
    "    labs(x = \"Age of House (years)\", y = \"Price per Unit Area(10,000 NTD/Ping)\") +\n",
    "    theme(text = element_text(size = 16)) + \n",
    "    ggtitle(\"Age of House vs. Price per Unit Area with Predictions\")\n",
    "\n",
    "# Printing the plot\n",
    "age_price_plot"
   ]
  },
  {
   "cell_type": "markdown",
   "id": "8b0cd68f-01f8-4c0b-9b04-734994d0c5c6",
   "metadata": {},
   "source": [
    "*Figure 5. Plot of the relationship between the house's age and its price per unit area of the testing data, overlaid with KNN prediction line*"
   ]
  },
  {
   "cell_type": "code",
   "execution_count": 17,
   "id": "233bc12d-c040-4673-ac91-4780115af2c4",
   "metadata": {
    "vscode": {
     "languageId": "r"
    }
   },
   "outputs": [
    {
     "data": {
      "image/png": "[encoded data removed]",
      "text/plain": [
       "plot without title"
      ]
     },
     "metadata": {
      "image/png": {
       "height": 480,
       "width": 480
      }
     },
     "output_type": "display_data"
    }
   ],
   "source": [
    "# Plotting of the relationship between the house's distance to the closest public transit station \n",
    "# and its price per unit area of the testing data, overlaid with KNN prediction line  \n",
    "station_price_plot <- house_train |> \n",
    "    ggplot(aes(x = station_distance, y = price_per_unit)) +\n",
    "    geom_point(col = \"forestgreen\") +\n",
    "    geom_line(\n",
    "        data = house_preds,\n",
    "        mapping = aes(x = station_distance, y = .pred),\n",
    "        color = \"darkorchid3\") +\n",
    "    labs(x = \"Distance to Closest MRT Station (m)\", y = \"Price per Unit Area(10,000 NTD/Ping)\") +\n",
    "    ggtitle(\"Distance to MRT Station vs. Price per Unit Area with Predictions\") +\n",
    "    theme(text = element_text(size = 14))\n",
    "\n",
    "# Printing the plot\n",
    "station_price_plot"
   ]
  },
  {
   "cell_type": "markdown",
   "id": "2cc90863-d7f7-4110-8928-552f6c56f2a3",
   "metadata": {},
   "source": [
    "*Figure 6. Plot of the relationship between the house's distance to the closest public transit station and its price per unit area of the testing data, overlaid with KNN prediction line*"
   ]
  },
  {
   "cell_type": "code",
   "execution_count": 18,
   "id": "5e5fb798-1440-430e-a02a-32741b26fa4a",
   "metadata": {
    "vscode": {
     "languageId": "r"
    }
   },
   "outputs": [
    {
     "data": {
      "image/png": "[encoded data removed]",
      "text/plain": [
       "plot without title"
      ]
     },
     "metadata": {
      "image/png": {
       "height": 480,
       "width": 480
      }
     },
     "output_type": "display_data"
    }
   ],
   "source": [
    "# Plotting of the relationship between the density of nearby convenience stores and the house's price \n",
    "# per unit area of the testing data, overlaid with KNN prediction line  \n",
    "store_price_plot <- house_train |> \n",
    "    ggplot(aes(x = store_count, y = price_per_unit)) +\n",
    "    geom_point(col = \"forestgreen\") +\n",
    "    geom_line(\n",
    "        data = house_preds,\n",
    "        mapping = aes(x = store_count, y = .pred),\n",
    "        color = \"darkorchid3\") +\n",
    "    labs(x = \"Number of Nearby Stores\", y = \"Price per Unit Area(10,000 NTD/Ping)\") +\n",
    "    theme(text = element_text(size = 16)) +\n",
    "    ggtitle(\"Plot of Number of Nearby Stores vs. Price per Unit Area\")\n",
    "\n",
    "# Printing the plot\n",
    "store_price_plot"
   ]
  },
  {
   "attachments": {},
   "cell_type": "markdown",
   "id": "c278e60b-d2d5-4abd-86b1-f39fd0329a89",
   "metadata": {},
   "source": [
    "*Figure 7. Plot of the relationship between the density of nearby convenience stores and the house's price per unit area of the testing data, overlaid with KNN prediction line*"
   ]
  },
  {
   "cell_type": "markdown",
   "id": "f117dd4c-686e-4e35-be0b-1ee41110b71a",
   "metadata": {},
   "source": [
    "## Discussion"
   ]
  },
  {
   "attachments": {},
   "cell_type": "markdown",
   "id": "0c66e4f3-221c-4a8a-baf7-37b7e7f26d01",
   "metadata": {},
   "source": [
    "In our analysis, we found that the relationships between some of our variables and house prices were weak at best, while other variables were found to have some correlation and relationship. As we saw in our exploratory graphs, there was no clear relationship between house age and price. The points are scattered, with the prediction line fluctuating throughout the point cloud. The prediction line does follow the areas with the highest density of points, thus it can be assumed that the model did produce an adequate regression for house price based on age, given the circumstances. The visualization for price based on the distance to rapid transit stations displays a clear negative relationship between these variables. As the distance from a station increases, the house price decreases. The K-nearest neighbours regression line optimally demonstrates this negative non-linear relationship. For our last variable, the number of convenience stores within a walkable distance, a weak positive relationship can be found. As the store density around the house increases, the price of the house does as well. The overall trend of the prediction line does showcase this relationship. However, the staggered nature of the trendline reinforces our idea in the preliminary data analysis that a linear regression approach towards the store density variable may be a better approach towards giving better predictions.\n",
    "\n",
    "When analyzing the error of our regression, we found that the error decreased when testing our final model.  During the k-value tuning process, the lowest RMSE had an error of 9.17. When testing our final model, the RMSPE went down to 7.83. This translates to an error of around 78,000 New Taiwan Dollars per Ping, or $1,000 CAD per m².             \n",
    "\n",
    "\n",
    "Our initial proposal predictions was the existence of some relationship between house age, distance to the nearest MRT station, and density of nearby convenience stores with the house price. We expected there to be a negative relationship between house price and age, as houses lose value as they become older. We also expected there to be a negative relationship between distance to MRT station and house price, as houses typically have a higher value closer to transit stations. Finally, we expected a positive correlation between number of nearby convenience stores and house price, as the increased store count accounts for easier access to quick goods and services. As discussed above, we did not find much of a relationship between house age and price. However, the data did confirm our expectations of a negative relationship between distance to transit station and house price, as well as a positive (but jagged) relationship between density of nearby stores and house price.\n",
    "\n",
    "The relationships between house age, distance to the nearest MRT station, density of nearby convenience stores and house price could impact various stakeholders in the New Taipei City real estate market. Homebuyers and sellers may use this information to negotiate prices, while real estate developers and investors may consider these factors in their investment decisions and development strategies. Urban planners and policymakers could incorporate these findings into land-use planning and housing policies. Financial institutions and appraisers may also take these findings into account when assessing property values. Overall, these findings could provide valuable insights for decision-makers in the real estate industry or influence pricing strategies, investment decisions, and policy considerations related to housing markets.\n",
    "\n",
    "\n",
    "In the future, we can explore how other factors such as proximity to public transportation, amenities, schools, demographics, crime rates, environmental factors, housing supply, economic conditions, and cultural influences would impact house prices. Research could involve empirical studies, statistical analyses, and interdisciplinary approaches to understand the complex dynamics that shape the housing market and inform decision-making. The findings could provide further insights for homeowners, policymakers, and real estate professionals to better understand and manage the relationship between these factors and house prices in the future."
   ]
  },
  {
   "cell_type": "markdown",
   "id": "7afc5f96-4d99-4afa-b86a-642ce0f9422d",
   "metadata": {},
   "source": [
    "## References\n",
    "\n",
    "Cheng, K. M. (2018). The factors and implications of rising housing prices in Taiwan. Brookings Institution. https://www.brookings.edu/opinions/the-factors-and-implications-of-rising-housing-prices-in-taiwan/\n",
    "\n",
    "Chiang, Y., Peng, T., & Chang, C. (2015). The nonlinear effect of convenience stores on residential property prices: A case study of Taipei, Taiwan. Habitat International(46) 82–90. \n",
    "https://doi.org/10.1016/j.habitatint.2014.10.017\n",
    "\n",
    "Yeh, I. C., & Hsu, T. K. (2018). Real estate valuation data set [Data set]. Tamkang University. https://archive.ics.uci.edu/ml/datasets/Real+estate+valuation+data+set\n"
   ]
  }
 ],
 "metadata": {
  "kernelspec": {
   "display_name": "R",
   "language": "R",
   "name": "ir"
  },
  "language_info": {
   "codemirror_mode": "r",
   "file_extension": ".r",
   "mimetype": "text/x-r-source",
   "name": "R",
   "pygments_lexer": "r",
   "version": "4.2.3"
  }
 },
 "nbformat": 4,
 "nbformat_minor": 5
}
